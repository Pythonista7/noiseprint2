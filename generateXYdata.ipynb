{
 "metadata": {
  "language_info": {
   "codemirror_mode": {
    "name": "ipython",
    "version": 3
   },
   "file_extension": ".py",
   "mimetype": "text/x-python",
   "name": "python",
   "nbconvert_exporter": "python",
   "pygments_lexer": "ipython3",
   "version": "3.6.9"
  },
  "orig_nbformat": 2,
  "kernelspec": {
   "name": "python369jvsc74a57bd0467bf59b3783a2827a003b7044a285de89a8b3715ca04c61556ea13cb53368e0",
   "display_name": "Python 3.6.9 64-bit ('.env': venv)"
  },
  "metadata": {
   "interpreter": {
    "hash": "467bf59b3783a2827a003b7044a285de89a8b3715ca04c61556ea13cb53368e0"
   }
  }
 },
 "nbformat": 4,
 "nbformat_minor": 2,
 "cells": [
  {
   "cell_type": "code",
   "execution_count": 5,
   "metadata": {},
   "outputs": [
    {
     "output_type": "stream",
     "name": "stdout",
     "text": [
      "camera\nLICENSE\nlog\nmodel.pth\nmodel_save\npredict.py\nREADME.md\nresnet50-19c8e357\nresnet50-19c8e357.pth\ntest\ntest_files\ntrain\ntrain_files\ntrain.py\nval_files\n\n"
     ]
    }
   ],
   "source": [
    "import numpy as np # linear algebra\n",
    "import pandas as pd # data processing, CSV file I/O (e.g. pd.read_csv)\n",
    "import os\n",
    "from PIL import Image\n",
    "from skimage.transform import resize\n",
    "from random import shuffle\n",
    "# Input data files are available in the \"../input/\" directory.\n",
    "# For example, running this (by clicking run or pressing Shift+Enter) will list the files in the input directory\n",
    "\n",
    "from subprocess import check_output\n",
    "print(check_output([\"ls\", \"../camera_identification/\"]).decode(\"utf8\"))"
   ]
  },
  {
   "cell_type": "code",
   "execution_count": null,
   "metadata": {},
   "outputs": [],
   "source": [
    "list_paths = []\n",
    "for subdir, dirs, files in os.walk(\"../camera_identification/\"):\n",
    "    for file in files:\n",
    "        #print os.path.join(subdir, file)\n",
    "        filepath = subdir + os.sep + file\n",
    "        list_paths.append(filepath)"
   ]
  }
 ]
}